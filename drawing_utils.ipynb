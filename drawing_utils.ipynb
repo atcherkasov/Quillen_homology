{
 "cells": [
  {
   "cell_type": "code",
   "execution_count": 35,
   "id": "extensive-vegetarian",
   "metadata": {},
   "outputs": [
    {
     "name": "stdout",
     "output_type": "stream",
     "text": [
      "Graph[{0->1,0->2,1->3,1->4,2->5,2->6,3->7,3->8,7->15,7->16}]\n",
      "\n"
     ]
    },
    {
     "data": {
      "text/plain": [
       "'drawings/test.pdf'"
      ]
     },
     "execution_count": 35,
     "metadata": {},
     "output_type": "execute_result"
    }
   ],
   "source": [
    "from graphviz import Graph\n",
    "# from wand.image import Image as WImage\n",
    "\n",
    "\n",
    "\"\"\"\n",
    "INSTRUCTION\n",
    "\n",
    "1) simply run this cell and write grapf like this: \n",
    "Graph[{0->1,0->2,1->3,1->4,2->5,2->6,3->7,3->8,7->15,7->16}]\n",
    "\n",
    "2) Then write the name of file (default name is 'test.pdf')\n",
    "\"\"\"\n",
    "\n",
    "s = input()\n",
    "\n",
    "file = input()\n",
    "\n",
    "if (file == ''):\n",
    "    file = 'drawings/test'\n",
    "\n",
    "u = Graph('G', filename=file, \n",
    "            node_attr={'color': 'blue',})# 'style': 'filled'})\n",
    "\n",
    "u.attr(size='6,6')\n",
    "u.attr('node', shape='circle', fixedsize='false', width='0.2')\n",
    "\n",
    "s = s[7:-2]\n",
    "links = s.split(',')\n",
    "\n",
    "for link in links:\n",
    "    father = link.split('-')[0]\n",
    "    son =  link.split('>')[1]\n",
    "    u.node(father, father)\n",
    "    u.node(son, son)\n",
    "    u.edge(father, son)\n",
    "u.view()\n",
    "\n",
    "\n",
    "# img = WImage(filename='drawings/test.pdf')\n",
    "# img\n",
    "\n",
    "# from IPython.display import IFrame\n",
    "# IFrame(\"drawings/test.pdf\", width=600, height=300)"
   ]
  },
  {
   "cell_type": "code",
   "execution_count": null,
   "id": "collectible-example",
   "metadata": {},
   "outputs": [],
   "source": []
  }
 ],
 "metadata": {
  "kernelspec": {
   "display_name": "Python 3",
   "language": "python",
   "name": "python3"
  },
  "language_info": {
   "codemirror_mode": {
    "name": "ipython",
    "version": 3
   },
   "file_extension": ".py",
   "mimetype": "text/x-python",
   "name": "python",
   "nbconvert_exporter": "python",
   "pygments_lexer": "ipython3",
   "version": "3.7.4"
  }
 },
 "nbformat": 4,
 "nbformat_minor": 5
}
